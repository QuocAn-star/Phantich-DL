{
  "nbformat": 4,
  "nbformat_minor": 0,
  "metadata": {
    "colab": {
      "provenance": [],
      "authorship_tag": "ABX9TyNekeuARw1hBeiUN6uT2PWR",
      "include_colab_link": true
    },
    "kernelspec": {
      "name": "python3",
      "display_name": "Python 3"
    },
    "language_info": {
      "name": "python"
    }
  },
  "cells": [
    {
      "cell_type": "markdown",
      "metadata": {
        "id": "view-in-github",
        "colab_type": "text"
      },
      "source": [
        "<a href=\"https://colab.research.google.com/github/QuocAn-star/Phantich-DL/blob/main/BT_LTM.ipynb\" target=\"_parent\"><img src=\"https://colab.research.google.com/assets/colab-badge.svg\" alt=\"Open In Colab\"/></a>"
      ]
    },
    {
      "cell_type": "code",
      "execution_count": 7,
      "metadata": {
        "id": "cf-4aQkQ-nDz",
        "colab": {
          "base_uri": "https://localhost:8080/"
        },
        "outputId": "2982a15e-7d54-4640-f3d4-fe3a1b6f734f"
      },
      "outputs": [
        {
          "output_type": "stream",
          "name": "stdout",
          "text": [
            "{64, 65, 66, 67, 68, 69, 70, 61, 62, 63}\n"
          ]
        }
      ],
      "source": [
        "#Bài 1:\n",
        "import pandas as pd\n",
        "import numpy as np\n",
        "import matplotlib.pyplot as plt\n",
        "\n",
        "data = [62, 64, 66, 67, 65, 68, 61, 65, 67, 65, 64, 63, 67,\n",
        "                            68, 64, 66, 68, 69, 65, 67, 62, 66, 68, 67, 66, 65,\n",
        "                            69, 65, 70, 65, 67, 68, 65, 63, 64, 67, 67]\n",
        "print(data)\n"
      ]
    },
    {
      "cell_type": "code",
      "source": [
        "# Tính chiều cao trung bình\n",
        "height = np.mean(data)\n",
        "print(f\"Chiều cao trung bình: {height:.2f}\")\n",
        "\n",
        "# Tính độ lệch chuẩn\n",
        "std_dev = np.std(data)\n",
        "print(f\"Độ lệch chuẩn: {std_dev:.2f}\")"
      ],
      "metadata": {
        "id": "xouWddv8QWcv"
      },
      "execution_count": null,
      "outputs": []
    },
    {
      "cell_type": "code",
      "source": [
        "#Vẽ biểu đồh histogram\n",
        "plt.hist(data, bins= 'auto', edgecolor='black')\n",
        "plt.title('Histogram of Data')\n",
        "plt.xlabel('Value')\n",
        "plt.ylabel('Frequency')\n",
        "plt.show()\n",
        "\n"
      ],
      "metadata": {
        "colab": {
          "base_uri": "https://localhost:8080/",
          "height": 472
        },
        "id": "aUgUr-jCQWZI",
        "outputId": "2c62dc0b-02ed-4b2c-a0e5-e0a5050b538a"
      },
      "execution_count": 16,
      "outputs": [
        {
          "output_type": "display_data",
          "data": {
            "text/plain": [
              "<Figure size 640x480 with 1 Axes>"
            ],
            "image/png": "[encoded data removed]"
          },
          "metadata": {}
        }
      ]
    },
    {
      "cell_type": "code",
      "source": [
        "#boxplot\n",
        "plt.boxplot(data)\n",
        "plt.title('Boxplot of Data')\n",
        "plt.xlabel('Value')\n",
        "plt.show()"
      ],
      "metadata": {
        "id": "1Kig8-K1XeS-"
      },
      "execution_count": null,
      "outputs": []
    },
    {
      "cell_type": "code",
      "source": [
        "#Trung Vị\n",
        "median_data = np.median(data)"
      ],
      "metadata": {
        "id": "0qvgZFRRYkJT"
      },
      "execution_count": 17,
      "outputs": []
    },
    {
      "cell_type": "code",
      "source": [
        "#bài 4:\n",
        "\n",
        "data = [4.2, 4.7, 4.7, 5.0, 3.8, 3.6, 3.0, 5.1, 3.1, 3.8,\n",
        "4.8, 4.0, 5.2, 4.3, 2.8, 2.0, 2.8, 3.3, 4.8, 5.0]\n",
        "print(data)"
      ],
      "metadata": {
        "colab": {
          "base_uri": "https://localhost:8080/"
        },
        "id": "3FiMHh24Uuao",
        "outputId": "5e055ef8-6dfa-4972-9e35-46737c436a28"
      },
      "execution_count": 8,
      "outputs": [
        {
          "output_type": "stream",
          "name": "stdout",
          "text": [
            "[4.2, 4.7, 4.7, 5.0, 3.8, 3.6, 3.0, 5.1, 3.1, 3.8, 4.8, 4.0, 5.2, 4.3, 2.8, 2.0, 2.8, 3.3, 4.8, 5.0]\n"
          ]
        }
      ]
    },
    {
      "cell_type": "code",
      "source": [
        "#Tính trung bình mẫu, phương sai mẫu và độ lệch chuẩn\n",
        "mean_sample = np.mean(data)\n",
        "print(f\"Trung bình mẫu: {mean_sample:.2f}\")\n"
      ],
      "metadata": {
        "colab": {
          "base_uri": "https://localhost:8080/"
        },
        "id": "3bytYCbHUuXR",
        "outputId": "245d55f3-9691-4f78-83f8-f2f05006f420"
      },
      "execution_count": 9,
      "outputs": [
        {
          "output_type": "stream",
          "name": "stdout",
          "text": [
            "Trung bình mẫu: 4.00\n"
          ]
        }
      ]
    },
    {
      "cell_type": "code",
      "source": [
        "# Tính phương sai mẫu\n",
        "variance_sample = np.var(data, ddof=1)  # ddof=1 để tính phương sai mẫu\n",
        "print(f\"Phương sai mẫu: {variance_sample:.2f}\")"
      ],
      "metadata": {
        "colab": {
          "base_uri": "https://localhost:8080/"
        },
        "id": "eI_s9T8lZr2L",
        "outputId": "b4c17e3e-886b-4763-bf6c-e6b719ae48f9"
      },
      "execution_count": 10,
      "outputs": [
        {
          "output_type": "stream",
          "name": "stdout",
          "text": [
            "Phương sai mẫu: 0.87\n"
          ]
        }
      ]
    },
    {
      "cell_type": "code",
      "source": [
        "# Tính độ lệch chuẩn mẫu\n",
        "std_dev_sample = np.std(data, ddof=1)\n",
        "print(f\"Độ lệch chuẩn mẫu: {std_dev_sample:.2f}\")"
      ],
      "metadata": {
        "colab": {
          "base_uri": "https://localhost:8080/"
        },
        "id": "ckbUu5SFZrvb",
        "outputId": "d992bd42-3185-4721-a4a0-b3f0357c533b"
      },
      "execution_count": 11,
      "outputs": [
        {
          "output_type": "stream",
          "name": "stdout",
          "text": [
            "Độ lệch chuẩn mẫu: 0.93\n"
          ]
        }
      ]
    },
    {
      "cell_type": "code",
      "source": [
        "# Vẽ biểu đồ Boxplot\n",
        "plt.boxplot(data, vert=True)\n",
        "\n",
        "# Thiết lập tiêu đề và nhãn\n",
        "plt.title(\"Boxplot of Data\")\n",
        "plt.xlabel(\"Values\")\n",
        "\n",
        "# Hiển thị biểu đồ\n",
        "plt.show()\n",
        "\n"
      ],
      "metadata": {
        "colab": {
          "base_uri": "https://localhost:8080/",
          "height": 472
        },
        "id": "aE-_3jbVUuST",
        "outputId": "89414a36-8632-439e-8fe9-8380757807dd"
      },
      "execution_count": 14,
      "outputs": [
        {
          "output_type": "display_data",
          "data": {
            "text/plain": [
              "<Figure size 640x480 with 1 Axes>"
            ],
            "image/png": "[encoded data removed]"
          },
          "metadata": {}
        }
      ]
    },
    {
      "cell_type": "code",
      "source": [
        "#Bài 2\n",
        "female_heights = [62, 64, 66, 67, 65, 68, 61, 65, 67, 65, 64, 63, 67,\n",
        "                  68, 64, 66, 68, 69, 65, 67, 62, 66, 68, 67, 66, 65,\n",
        "                  69, 65, 70, 65, 67, 68, 65, 63, 64, 67, 67]\n",
        "\n",
        "male_heights = [69, 67, 69, 70, 65, 68, 69, 70, 71, 69, 66, 67, 69,\n",
        "                75, 68, 67, 68, 69, 70, 71, 72, 68, 69, 69, 70, 71,\n",
        "                68, 72, 69, 69, 68, 69, 73, 70, 73, 68, 69, 71, 67,\n",
        "                68, 65, 68, 68, 69, 70, 74, 71, 69, 70, 69]\n",
        "print(female_heights)\n",
        "print(male_heights)\n"
      ],
      "metadata": {
        "colab": {
          "base_uri": "https://localhost:8080/"
        },
        "id": "88PIrJDgbe9K",
        "outputId": "41f5f30a-71cd-459d-8e40-68e52119e910"
      },
      "execution_count": 15,
      "outputs": [
        {
          "output_type": "stream",
          "name": "stdout",
          "text": [
            "[62, 64, 66, 67, 65, 68, 61, 65, 67, 65, 64, 63, 67, 68, 64, 66, 68, 69, 65, 67, 62, 66, 68, 67, 66, 65, 69, 65, 70, 65, 67, 68, 65, 63, 64, 67, 67]\n",
            "[69, 67, 69, 70, 65, 68, 69, 70, 71, 69, 66, 67, 69, 75, 68, 67, 68, 69, 70, 71, 72, 68, 69, 69, 70, 71, 68, 72, 69, 69, 68, 69, 73, 70, 73, 68, 69, 71, 67, 68, 65, 68, 68, 69, 70, 74, 71, 69, 70, 69]\n"
          ]
        }
      ]
    },
    {
      "cell_type": "code",
      "source": [
        "\n",
        "##a. Vẽ biểu đồ stem & leaf\n",
        "def stem_and_leaf_comparison(female_data, male_data):\n",
        "    # Tạo dictionary lưu trữ thân và lá cho nữ và nam\n",
        "    stem_leaf_female = {}\n",
        "    stem_leaf_male = {}\n",
        "\n",
        "    # Xử lý dữ liệu của nữ sinh viên\n",
        "    for number in female_data:\n",
        "        stem = int(number) // 10\n",
        "        leaf = int(number) % 10\n",
        "        if stem not in stem_leaf_female:\n",
        "            stem_leaf_female[stem] = []\n",
        "        stem_leaf_female[stem].append(leaf)\n",
        "\n",
        "    # Xử lý dữ liệu của nam sinh viên\n",
        "    for number in male_data:\n",
        "        stem = int(number) // 10\n",
        "        leaf = int(number) % 10\n",
        "        if stem not in stem_leaf_male:\n",
        "            stem_leaf_male[stem] = []\n",
        "        stem_leaf_male[stem].append(leaf)\n",
        "\n",
        "    # In tiêu đề\n",
        "    print(\"Male (Left) | Stem | Female (Right)\")\n",
        "\n",
        "    # Hợp tất cả các thân từ cả hai tập dữ liệu\n",
        "    all_stems = sorted(set(stem_leaf_female.keys()).union(set(stem_leaf_male.keys())))\n",
        "\n",
        "    # In kết quả\n",
        "    for stem in all_stems:\n",
        "        male_leaves = \" \".join(map(str, sorted(stem_leaf_male.get(stem, []))))\n",
        "        female_leaves = \" \".join(map(str, sorted(stem_leaf_female.get(stem, []))))\n",
        "        print(f\"{male_leaves:12} | {stem:4} | {female_leaves}\")\n",
        "\n",
        "# Gọi hàm\n",
        "stem_and_leaf_comparison(female_heights, male_heights)\n"
      ],
      "metadata": {
        "colab": {
          "base_uri": "https://localhost:8080/"
        },
        "id": "FaQaRGaHgYD-",
        "outputId": "bc8d0963-0e00-40d5-ebf1-e49ba62f65ec"
      },
      "execution_count": 19,
      "outputs": [
        {
          "output_type": "stream",
          "name": "stdout",
          "text": [
            "Male (Left) | Stem | Female (Right)\n",
            "5 5 6 7 7 7 7 8 8 8 8 8 8 8 8 8 8 9 9 9 9 9 9 9 9 9 9 9 9 9 9 9 |    6 | 1 2 2 3 3 4 4 4 4 5 5 5 5 5 5 5 5 6 6 6 6 7 7 7 7 7 7 7 7 8 8 8 8 8 9 9\n",
            "0 0 0 0 0 0 0 1 1 1 1 1 2 2 3 3 4 5 |    7 | 0\n"
          ]
        }
      ]
    },
    {
      "cell_type": "code",
      "source": [
        "##b."
      ],
      "metadata": {
        "id": "a09Zmzt9kl7n"
      },
      "execution_count": null,
      "outputs": []
    },
    {
      "cell_type": "code",
      "source": [
        "import matplotlib.pyplot as plt\n",
        "\n",
        "# Dữ liệu chiều cao của nữ sinh và nam sinh\n",
        "female_heights = [62, 64, 66, 67, 65, 68, 61, 65, 67, 65, 64, 63, 67,\n",
        "                  68, 64, 66, 68, 69, 65, 67, 62, 66, 68, 67, 66, 65,\n",
        "                  69, 65, 70, 65, 67, 68, 65, 63, 64, 67, 67]\n",
        "male_heights = [69, 67, 69, 70, 65, 68, 69, 70, 71, 69, 66, 67, 69, 75, 68,\n",
        "                67, 68, 69, 70, 71, 72, 68, 69, 69, 70, 71, 68, 72, 69, 69,\n",
        "                68, 69, 73, 70, 73, 68, 69, 71, 67, 68, 65, 68, 68, 69, 70,\n",
        "                74, 71, 69, 70, 69]\n",
        "\n",
        "# Hàm vẽ Stem-and-Leaf\n",
        "def draw_stem_and_leaf(female_data, male_data):\n",
        "    # Tạo dữ liệu stem-leaf cho nữ và nam\n",
        "    def generate_stem_leaf(data):\n",
        "        stem_leaf = {}\n",
        "        for number in data:\n",
        "            stem = int(number) // 10\n",
        "            leaf = int(number) % 10\n",
        "            if stem not in stem_leaf:\n",
        "                stem_leaf[stem] = []\n",
        "            stem_leaf[stem].append(leaf)\n",
        "        return stem_leaf\n",
        "\n",
        "    female_stem_leaf = generate_stem_leaf(female_data)\n",
        "    male_stem_leaf = generate_stem_leaf(male_data)\n",
        "\n",
        "    # Hợp tất cả các thân từ cả hai tập dữ liệu\n",
        "    all_stems = sorted(set(female_stem_leaf.keys()).union(set(male_stem_leaf.keys())))\n",
        "\n",
        "    # Tạo dữ liệu để vẽ\n",
        "    male_stems = []\n",
        "    female_stems = []\n",
        "    stems = []\n",
        "    for stem in all_stems:\n",
        "        male_leaves = \" \".join(map(str, sorted(male_stem_leaf.get(stem, []))))\n",
        "        female_leaves = \" \".join(map(str, sorted(female_stem_leaf.get(stem, []))))\n",
        "        male_stems.append(male_leaves if male_leaves else \" \")\n",
        "        female_stems.append(female_leaves if female_leaves else \" \")\n",
        "        stems.append(str(stem))\n",
        "\n",
        "    # Vẽ biểu đồ\n",
        "    fig, ax = plt.subplots(figsize=(10, 6))\n",
        "    ax.axis('off')  # Tắt trục\n",
        "    table_data = list(zip(male_stems, stems, female_stems))\n",
        "    ax.table(cellText=table_data,\n",
        "             colLabels=[\"Male (Left)\", \"Stem\", \"Female (Right)\"],\n",
        "             loc=\"center\",\n",
        "             cellLoc=\"center\")\n",
        "\n",
        "    plt.title(\"Stem-and-Leaf Plot: Male vs Female Heights\")\n",
        "    plt.show()\n",
        "\n",
        "# Gọi hàm vẽ\n",
        "draw_stem_and_leaf(female_heights, male_heights)\n"
      ],
      "metadata": {
        "colab": {
          "base_uri": "https://localhost:8080/",
          "height": 521
        },
        "id": "zbAcc6SDlUg0",
        "outputId": "648edb11-b402-4c65-dfa9-22f7c6c27b4b"
      },
      "execution_count": 20,
      "outputs": [
        {
          "output_type": "display_data",
          "data": {
            "text/plain": [
              "<Figure size 1000x600 with 1 Axes>"
            ],
            "image/png": "[encoded data removed]"
          },
          "metadata": {}
        }
      ]
    }
  ]
}