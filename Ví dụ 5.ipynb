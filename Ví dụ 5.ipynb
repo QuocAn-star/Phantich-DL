{
  "nbformat": 4,
  "nbformat_minor": 0,
  "metadata": {
    "colab": {
      "provenance": [],
      "authorship_tag": "ABX9TyO0v5H5H+eZ7fScz74YEsH/",
      "include_colab_link": true
    },
    "kernelspec": {
      "name": "python3",
      "display_name": "Python 3"
    },
    "language_info": {
      "name": "python"
    }
  },
  "cells": [
    {
      "cell_type": "markdown",
      "metadata": {
        "id": "view-in-github",
        "colab_type": "text"
      },
      "source": [
        "<a href=\"https://colab.research.google.com/github/QuocAn-star/Phantich-DL/blob/main/V%C3%AD%20d%E1%BB%A5%205.ipynb\" target=\"_parent\"><img src=\"https://colab.research.google.com/assets/colab-badge.svg\" alt=\"Open In Colab\"/></a>"
      ]
    },
    {
      "cell_type": "code",
      "execution_count": 3,
      "metadata": {
        "colab": {
          "base_uri": "https://localhost:8080/"
        },
        "id": "0ciQfqjm-ntA",
        "outputId": "20de075e-5925-4610-d23f-ec206f6fa226"
      },
      "outputs": [
        {
          "output_type": "stream",
          "name": "stdout",
          "text": [
            "    ID              Name  Age        Province\n",
            "0  001    Pham Van Nghia   25        Nam Dinh\n",
            "1  002    Tong Thuy Linh   26       Thanh Hoa\n",
            "2  003        Le Van Dai   25  TP Ho Chi Minh\n",
            "3  004  Tran Quang Nghia   23         Da Nang\n",
            "4  005        DoanThu Ha   22         Can Tho\n"
          ]
        }
      ],
      "source": [
        "import pandas as pd\n",
        "\n",
        "df_sinhvien = pd.DataFrame({\n",
        "    'ID' : ['001', '002', '003', '004', '005'],\n",
        "    'Name' : ['Pham Van Nghia', 'Tong Thuy Linh', 'Le Van Dai', 'Tran Quang Nghia', 'DoanThu Ha'],\n",
        "    'Age': [25, 26, 25, 23, 22],\n",
        "    'Province': ['Nam Dinh', 'Thanh Hoa', 'TP Ho Chi Minh', 'Da Nang', 'Can Tho']\n",
        "})\n",
        "print(df_sinhvien)"
      ]
    },
    {
      "cell_type": "code",
      "source": [
        "df_sorce = pd.DataFrame({\n",
        "    'ID': ['001', '002', '003', '006', '007'],\n",
        "    'Math': [6.75, 9, 8, 7, 10],\n",
        "    'Physic': [8, 9, 9,8.5, 9],\n",
        "    'Chemistry': [7, 9.5, 7.5, 9, 10],\n",
        "    'Province': ['Nam Dinh', 'Thanh Hoa', 'TP Ho Chi Minh', 'Quang Nam', 'Nghe An']\n",
        "})\n",
        "print(df_sorce)"
      ],
      "metadata": {
        "colab": {
          "base_uri": "https://localhost:8080/"
        },
        "id": "_75IKjl3-_YW",
        "outputId": "63b415b5-5739-4e5a-995c-4b96fcbd2784"
      },
      "execution_count": 6,
      "outputs": [
        {
          "output_type": "stream",
          "name": "stdout",
          "text": [
            "    ID   Math  Physic  Chemistry        Province\n",
            "0  001   6.75     8.0        7.0        Nam Dinh\n",
            "1  002   9.00     9.0        9.5       Thanh Hoa\n",
            "2  003   8.00     9.0        7.5  TP Ho Chi Minh\n",
            "3  006   7.00     8.5        9.0       Quang Nam\n",
            "4  007  10.00     9.0       10.0         Nghe An\n"
          ]
        }
      ]
    },
    {
      "cell_type": "code",
      "source": [
        "#inner join\n",
        "new_data = pd.merge(df_sinhvien, df_sorce,\n",
        "                 left_on='ID',\n",
        "                 right_on = 'ID',\n",
        "                 how = 'inner',\n",
        "                 suffixes = ['_Sv', '_Score'])\n",
        "print(new_data)\n"
      ],
      "metadata": {
        "colab": {
          "base_uri": "https://localhost:8080/"
        },
        "id": "Ydox6WArHoWL",
        "outputId": "865f3a89-6ab9-4fa5-c94f-8880f3b4f768"
      },
      "execution_count": 8,
      "outputs": [
        {
          "output_type": "stream",
          "name": "stdout",
          "text": [
            "    ID            Name  Age     Province_Sv  Math  Physic  Chemistry  \\\n",
            "0  001  Pham Van Nghia   25        Nam Dinh  6.75     8.0        7.0   \n",
            "1  002  Tong Thuy Linh   26       Thanh Hoa  9.00     9.0        9.5   \n",
            "2  003      Le Van Dai   25  TP Ho Chi Minh  8.00     9.0        7.5   \n",
            "\n",
            "   Province_Score  \n",
            "0        Nam Dinh  \n",
            "1       Thanh Hoa  \n",
            "2  TP Ho Chi Minh  \n"
          ]
        }
      ]
    },
    {
      "cell_type": "code",
      "source": [
        "#left join\n",
        "new_data1 = pd.merge(df_sinhvien, df_sorce,\n",
        "                 left_on='ID',\n",
        "                 right_on = 'ID',\n",
        "                 how = 'left',\n",
        "                 suffixes = ['_Sv', '_Score'])\n",
        "print(new_data1)"
      ],
      "metadata": {
        "colab": {
          "base_uri": "https://localhost:8080/"
        },
        "id": "j6J-qoi-HoPq",
        "outputId": "d4dc733f-2a8a-48e1-cb88-ef0e45eb728e"
      },
      "execution_count": 9,
      "outputs": [
        {
          "output_type": "stream",
          "name": "stdout",
          "text": [
            "    ID              Name  Age     Province_Sv  Math  Physic  Chemistry  \\\n",
            "0  001    Pham Van Nghia   25        Nam Dinh  6.75     8.0        7.0   \n",
            "1  002    Tong Thuy Linh   26       Thanh Hoa  9.00     9.0        9.5   \n",
            "2  003        Le Van Dai   25  TP Ho Chi Minh  8.00     9.0        7.5   \n",
            "3  004  Tran Quang Nghia   23         Da Nang   NaN     NaN        NaN   \n",
            "4  005        DoanThu Ha   22         Can Tho   NaN     NaN        NaN   \n",
            "\n",
            "   Province_Score  \n",
            "0        Nam Dinh  \n",
            "1       Thanh Hoa  \n",
            "2  TP Ho Chi Minh  \n",
            "3             NaN  \n",
            "4             NaN  \n"
          ]
        }
      ]
    },
    {
      "cell_type": "code",
      "source": [
        "#right join\n",
        "new_data2 = pd.merge(df_sinhvien, df_sorce,\n",
        "                 left_on='ID',\n",
        "                 right_on = 'ID',\n",
        "                 how = 'right',\n",
        "                 suffixes = ['_Sv', '_Score'])\n",
        "print(new_data2)\n"
      ],
      "metadata": {
        "colab": {
          "base_uri": "https://localhost:8080/"
        },
        "id": "nhX450CoHoIa",
        "outputId": "1bea849e-c68e-4c85-d857-256d5327efa3"
      },
      "execution_count": 10,
      "outputs": [
        {
          "output_type": "stream",
          "name": "stdout",
          "text": [
            "    ID            Name   Age     Province_Sv   Math  Physic  Chemistry  \\\n",
            "0  001  Pham Van Nghia  25.0        Nam Dinh   6.75     8.0        7.0   \n",
            "1  002  Tong Thuy Linh  26.0       Thanh Hoa   9.00     9.0        9.5   \n",
            "2  003      Le Van Dai  25.0  TP Ho Chi Minh   8.00     9.0        7.5   \n",
            "3  006             NaN   NaN             NaN   7.00     8.5        9.0   \n",
            "4  007             NaN   NaN             NaN  10.00     9.0       10.0   \n",
            "\n",
            "   Province_Score  \n",
            "0        Nam Dinh  \n",
            "1       Thanh Hoa  \n",
            "2  TP Ho Chi Minh  \n",
            "3       Quang Nam  \n",
            "4         Nghe An  \n"
          ]
        }
      ]
    },
    {
      "cell_type": "code",
      "source": [
        "# outer join\n",
        "new_data3 = pd.merge(df_sinhvien, df_sorce,\n",
        "                 left_on='ID',\n",
        "                 right_on = 'ID',\n",
        "                 how = 'outer',\n",
        "                 suffixes = ['_Sv', '_Score'])\n",
        "print(new_data3)"
      ],
      "metadata": {
        "colab": {
          "base_uri": "https://localhost:8080/"
        },
        "id": "eP-IWlPZHn_r",
        "outputId": "fa66e69a-efff-4606-e365-b695908395bf"
      },
      "execution_count": 12,
      "outputs": [
        {
          "output_type": "stream",
          "name": "stdout",
          "text": [
            "    ID              Name   Age     Province_Sv   Math  Physic  Chemistry  \\\n",
            "0  001    Pham Van Nghia  25.0        Nam Dinh   6.75     8.0        7.0   \n",
            "1  002    Tong Thuy Linh  26.0       Thanh Hoa   9.00     9.0        9.5   \n",
            "2  003        Le Van Dai  25.0  TP Ho Chi Minh   8.00     9.0        7.5   \n",
            "3  004  Tran Quang Nghia  23.0         Da Nang    NaN     NaN        NaN   \n",
            "4  005        DoanThu Ha  22.0         Can Tho    NaN     NaN        NaN   \n",
            "5  006               NaN   NaN             NaN   7.00     8.5        9.0   \n",
            "6  007               NaN   NaN             NaN  10.00     9.0       10.0   \n",
            "\n",
            "   Province_Score  \n",
            "0        Nam Dinh  \n",
            "1       Thanh Hoa  \n",
            "2  TP Ho Chi Minh  \n",
            "3             NaN  \n",
            "4             NaN  \n",
            "5       Quang Nam  \n",
            "6         Nghe An  \n"
          ]
        }
      ]
    }
  ]
}